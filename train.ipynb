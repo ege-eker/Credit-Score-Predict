{
 "cells": [
  {
   "cell_type": "code",
   "outputs": [],
   "source": [
    "import pandas as pd"
   ],
   "metadata": {
    "collapsed": false,
    "ExecuteTime": {
     "end_time": "2025-06-03T22:39:13.011918Z",
     "start_time": "2025-06-03T22:39:13.008725Z"
    }
   },
   "id": "a6f1b16fde2be533",
   "execution_count": 1
  },
  {
   "cell_type": "code",
   "outputs": [],
   "source": [
    "# Sadece egitim ve tahminleme islemlerinde gereken column'lar aliniyor.\n",
    "df = pd.read_csv(\"processed_dataset.csv\")"
   ],
   "metadata": {
    "collapsed": false,
    "ExecuteTime": {
     "end_time": "2025-06-03T22:39:15.323521Z",
     "start_time": "2025-06-03T22:39:15.256781Z"
    }
   },
   "id": "9b1c83c5f94bf3d9",
   "execution_count": 2
  },
  {
   "cell_type": "code",
   "outputs": [],
   "source": [
    "mapping = {\n",
    "    \"A\": 6,\n",
    "    \"B\": 5,\n",
    "    \"C\": 4,\n",
    "    \"D\": 3,\n",
    "    \"E\": 2,\n",
    "    \"F\": 1,\n",
    "    \"G\": 0\n",
    "}\n",
    "df['loan_grade'] = df[\"loan_grade\"].map(mapping)"
   ],
   "metadata": {
    "collapsed": false,
    "ExecuteTime": {
     "end_time": "2025-06-03T22:39:15.765278Z",
     "start_time": "2025-06-03T22:39:15.758277Z"
    }
   },
   "id": "854344d70eaecc5e",
   "execution_count": 3
  },
  {
   "cell_type": "code",
   "outputs": [
    {
     "data": {
      "text/plain": "          person_age  person_income  person_emp_length    loan_grade  \\\ncount   31743.000000   31743.000000       31743.000000  31743.000000   \nunique           NaN            NaN                NaN           NaN   \ntop              NaN            NaN                NaN           NaN   \nfreq             NaN            NaN                NaN           NaN   \nmean       27.701887   63273.934442           4.789899      4.783826   \nstd         6.214245   34416.854705           4.078478      1.165778   \nmin        20.000000   13200.000000           0.000000      0.000000   \n25%        23.000000   39000.000000           2.000000      4.000000   \n50%        26.000000   55000.000000           4.000000      5.000000   \n75%        30.000000   78000.000000           7.000000      6.000000   \nmax       100.000000  233000.000000         123.000000      6.000000   \n\n           loan_amnt  loan_int_rate loan_status  loan_percent_income  \\\ncount   31743.000000   31743.000000       31743         31743.000000   \nunique           NaN            NaN           2                  NaN   \ntop              NaN            NaN       False                  NaN   \nfreq             NaN            NaN       24952                  NaN   \nmean     9571.057398      11.008214         NaN             0.170404   \nstd      6232.734454       3.215079         NaN             0.105844   \nmin       500.000000       5.420000         NaN             0.010000   \n25%      5000.000000       7.880000         NaN             0.090000   \n50%      8000.000000      10.990000         NaN             0.150000   \n75%     12000.000000      13.480000         NaN             0.230000   \nmax     35000.000000      23.220000         NaN             0.830000   \n\n       cb_person_default_on_file  cb_person_cred_hist_length  ...  \\\ncount                      31743                31743.000000  ...   \nunique                         2                         NaN  ...   \ntop                        False                         NaN  ...   \nfreq                       26166                         NaN  ...   \nmean                         NaN                    5.786567  ...   \nstd                          NaN                    4.035993  ...   \nmin                          NaN                    2.000000  ...   \n25%                          NaN                    3.000000  ...   \n50%                          NaN                    4.000000  ...   \n75%                          NaN                    8.000000  ...   \nmax                          NaN                   30.000000  ...   \n\n       person_home_ownership_RENT loan_intent_DEBTCONSOLIDATION  \\\ncount                       31743                         31743   \nunique                          2                             2   \ntop                          True                         False   \nfreq                        16122                         26658   \nmean                          NaN                           NaN   \nstd                           NaN                           NaN   \nmin                           NaN                           NaN   \n25%                           NaN                           NaN   \n50%                           NaN                           NaN   \n75%                           NaN                           NaN   \nmax                           NaN                           NaN   \n\n       loan_intent_EDUCATION loan_intent_HOMEIMPROVEMENT loan_intent_MEDICAL  \\\ncount                  31743                       31743               31743   \nunique                     2                           2                   2   \ntop                    False                       False               False   \nfreq                   25443                       28232               25824   \nmean                     NaN                         NaN                 NaN   \nstd                      NaN                         NaN                 NaN   \nmin                      NaN                         NaN                 NaN   \n25%                      NaN                         NaN                 NaN   \n50%                      NaN                         NaN                 NaN   \n75%                      NaN                         NaN                 NaN   \nmax                      NaN                         NaN                 NaN   \n\n       loan_intent_PERSONAL loan_intent_VENTURE loan_grade_encoded  \\\ncount                 31743               31743       31743.000000   \nunique                    2                   2                NaN   \ntop                   False               False                NaN   \nfreq                  26367               26191                NaN   \nmean                    NaN                 NaN           1.216174   \nstd                     NaN                 NaN           1.165778   \nmin                     NaN                 NaN           0.000000   \n25%                     NaN                 NaN           0.000000   \n50%                     NaN                 NaN           1.000000   \n75%                     NaN                 NaN           2.000000   \nmax                     NaN                 NaN           6.000000   \n\n       log_person_age    log_income  \ncount    31743.000000  31743.000000  \nunique            NaN           NaN  \ntop               NaN           NaN  \nfreq              NaN           NaN  \nmean         3.300605     10.921995  \nstd          0.196459      0.517182  \nmin          2.995732      9.488048  \n25%          3.135494     10.571343  \n50%          3.258097     10.915107  \n75%          3.401197     11.264477  \nmax          4.605170     12.358798  \n\n[11 rows x 22 columns]",
      "text/html": "<div>\n<style scoped>\n    .dataframe tbody tr th:only-of-type {\n        vertical-align: middle;\n    }\n\n    .dataframe tbody tr th {\n        vertical-align: top;\n    }\n\n    .dataframe thead th {\n        text-align: right;\n    }\n</style>\n<table border=\"1\" class=\"dataframe\">\n  <thead>\n    <tr style=\"text-align: right;\">\n      <th></th>\n      <th>person_age</th>\n      <th>person_income</th>\n      <th>person_emp_length</th>\n      <th>loan_grade</th>\n      <th>loan_amnt</th>\n      <th>loan_int_rate</th>\n      <th>loan_status</th>\n      <th>loan_percent_income</th>\n      <th>cb_person_default_on_file</th>\n      <th>cb_person_cred_hist_length</th>\n      <th>...</th>\n      <th>person_home_ownership_RENT</th>\n      <th>loan_intent_DEBTCONSOLIDATION</th>\n      <th>loan_intent_EDUCATION</th>\n      <th>loan_intent_HOMEIMPROVEMENT</th>\n      <th>loan_intent_MEDICAL</th>\n      <th>loan_intent_PERSONAL</th>\n      <th>loan_intent_VENTURE</th>\n      <th>loan_grade_encoded</th>\n      <th>log_person_age</th>\n      <th>log_income</th>\n    </tr>\n  </thead>\n  <tbody>\n    <tr>\n      <th>count</th>\n      <td>31743.000000</td>\n      <td>31743.000000</td>\n      <td>31743.000000</td>\n      <td>31743.000000</td>\n      <td>31743.000000</td>\n      <td>31743.000000</td>\n      <td>31743</td>\n      <td>31743.000000</td>\n      <td>31743</td>\n      <td>31743.000000</td>\n      <td>...</td>\n      <td>31743</td>\n      <td>31743</td>\n      <td>31743</td>\n      <td>31743</td>\n      <td>31743</td>\n      <td>31743</td>\n      <td>31743</td>\n      <td>31743.000000</td>\n      <td>31743.000000</td>\n      <td>31743.000000</td>\n    </tr>\n    <tr>\n      <th>unique</th>\n      <td>NaN</td>\n      <td>NaN</td>\n      <td>NaN</td>\n      <td>NaN</td>\n      <td>NaN</td>\n      <td>NaN</td>\n      <td>2</td>\n      <td>NaN</td>\n      <td>2</td>\n      <td>NaN</td>\n      <td>...</td>\n      <td>2</td>\n      <td>2</td>\n      <td>2</td>\n      <td>2</td>\n      <td>2</td>\n      <td>2</td>\n      <td>2</td>\n      <td>NaN</td>\n      <td>NaN</td>\n      <td>NaN</td>\n    </tr>\n    <tr>\n      <th>top</th>\n      <td>NaN</td>\n      <td>NaN</td>\n      <td>NaN</td>\n      <td>NaN</td>\n      <td>NaN</td>\n      <td>NaN</td>\n      <td>False</td>\n      <td>NaN</td>\n      <td>False</td>\n      <td>NaN</td>\n      <td>...</td>\n      <td>True</td>\n      <td>False</td>\n      <td>False</td>\n      <td>False</td>\n      <td>False</td>\n      <td>False</td>\n      <td>False</td>\n      <td>NaN</td>\n      <td>NaN</td>\n      <td>NaN</td>\n    </tr>\n    <tr>\n      <th>freq</th>\n      <td>NaN</td>\n      <td>NaN</td>\n      <td>NaN</td>\n      <td>NaN</td>\n      <td>NaN</td>\n      <td>NaN</td>\n      <td>24952</td>\n      <td>NaN</td>\n      <td>26166</td>\n      <td>NaN</td>\n      <td>...</td>\n      <td>16122</td>\n      <td>26658</td>\n      <td>25443</td>\n      <td>28232</td>\n      <td>25824</td>\n      <td>26367</td>\n      <td>26191</td>\n      <td>NaN</td>\n      <td>NaN</td>\n      <td>NaN</td>\n    </tr>\n    <tr>\n      <th>mean</th>\n      <td>27.701887</td>\n      <td>63273.934442</td>\n      <td>4.789899</td>\n      <td>4.783826</td>\n      <td>9571.057398</td>\n      <td>11.008214</td>\n      <td>NaN</td>\n      <td>0.170404</td>\n      <td>NaN</td>\n      <td>5.786567</td>\n      <td>...</td>\n      <td>NaN</td>\n      <td>NaN</td>\n      <td>NaN</td>\n      <td>NaN</td>\n      <td>NaN</td>\n      <td>NaN</td>\n      <td>NaN</td>\n      <td>1.216174</td>\n      <td>3.300605</td>\n      <td>10.921995</td>\n    </tr>\n    <tr>\n      <th>std</th>\n      <td>6.214245</td>\n      <td>34416.854705</td>\n      <td>4.078478</td>\n      <td>1.165778</td>\n      <td>6232.734454</td>\n      <td>3.215079</td>\n      <td>NaN</td>\n      <td>0.105844</td>\n      <td>NaN</td>\n      <td>4.035993</td>\n      <td>...</td>\n      <td>NaN</td>\n      <td>NaN</td>\n      <td>NaN</td>\n      <td>NaN</td>\n      <td>NaN</td>\n      <td>NaN</td>\n      <td>NaN</td>\n      <td>1.165778</td>\n      <td>0.196459</td>\n      <td>0.517182</td>\n    </tr>\n    <tr>\n      <th>min</th>\n      <td>20.000000</td>\n      <td>13200.000000</td>\n      <td>0.000000</td>\n      <td>0.000000</td>\n      <td>500.000000</td>\n      <td>5.420000</td>\n      <td>NaN</td>\n      <td>0.010000</td>\n      <td>NaN</td>\n      <td>2.000000</td>\n      <td>...</td>\n      <td>NaN</td>\n      <td>NaN</td>\n      <td>NaN</td>\n      <td>NaN</td>\n      <td>NaN</td>\n      <td>NaN</td>\n      <td>NaN</td>\n      <td>0.000000</td>\n      <td>2.995732</td>\n      <td>9.488048</td>\n    </tr>\n    <tr>\n      <th>25%</th>\n      <td>23.000000</td>\n      <td>39000.000000</td>\n      <td>2.000000</td>\n      <td>4.000000</td>\n      <td>5000.000000</td>\n      <td>7.880000</td>\n      <td>NaN</td>\n      <td>0.090000</td>\n      <td>NaN</td>\n      <td>3.000000</td>\n      <td>...</td>\n      <td>NaN</td>\n      <td>NaN</td>\n      <td>NaN</td>\n      <td>NaN</td>\n      <td>NaN</td>\n      <td>NaN</td>\n      <td>NaN</td>\n      <td>0.000000</td>\n      <td>3.135494</td>\n      <td>10.571343</td>\n    </tr>\n    <tr>\n      <th>50%</th>\n      <td>26.000000</td>\n      <td>55000.000000</td>\n      <td>4.000000</td>\n      <td>5.000000</td>\n      <td>8000.000000</td>\n      <td>10.990000</td>\n      <td>NaN</td>\n      <td>0.150000</td>\n      <td>NaN</td>\n      <td>4.000000</td>\n      <td>...</td>\n      <td>NaN</td>\n      <td>NaN</td>\n      <td>NaN</td>\n      <td>NaN</td>\n      <td>NaN</td>\n      <td>NaN</td>\n      <td>NaN</td>\n      <td>1.000000</td>\n      <td>3.258097</td>\n      <td>10.915107</td>\n    </tr>\n    <tr>\n      <th>75%</th>\n      <td>30.000000</td>\n      <td>78000.000000</td>\n      <td>7.000000</td>\n      <td>6.000000</td>\n      <td>12000.000000</td>\n      <td>13.480000</td>\n      <td>NaN</td>\n      <td>0.230000</td>\n      <td>NaN</td>\n      <td>8.000000</td>\n      <td>...</td>\n      <td>NaN</td>\n      <td>NaN</td>\n      <td>NaN</td>\n      <td>NaN</td>\n      <td>NaN</td>\n      <td>NaN</td>\n      <td>NaN</td>\n      <td>2.000000</td>\n      <td>3.401197</td>\n      <td>11.264477</td>\n    </tr>\n    <tr>\n      <th>max</th>\n      <td>100.000000</td>\n      <td>233000.000000</td>\n      <td>123.000000</td>\n      <td>6.000000</td>\n      <td>35000.000000</td>\n      <td>23.220000</td>\n      <td>NaN</td>\n      <td>0.830000</td>\n      <td>NaN</td>\n      <td>30.000000</td>\n      <td>...</td>\n      <td>NaN</td>\n      <td>NaN</td>\n      <td>NaN</td>\n      <td>NaN</td>\n      <td>NaN</td>\n      <td>NaN</td>\n      <td>NaN</td>\n      <td>6.000000</td>\n      <td>4.605170</td>\n      <td>12.358798</td>\n    </tr>\n  </tbody>\n</table>\n<p>11 rows × 22 columns</p>\n</div>"
     },
     "execution_count": 4,
     "metadata": {},
     "output_type": "execute_result"
    }
   ],
   "source": [
    "df.describe(include=\"all\")"
   ],
   "metadata": {
    "collapsed": false,
    "ExecuteTime": {
     "end_time": "2025-06-03T22:39:16.537786Z",
     "start_time": "2025-06-03T22:39:16.477833Z"
    }
   },
   "id": "833773a4821bcaa1",
   "execution_count": 4
  },
  {
   "cell_type": "code",
   "outputs": [],
   "source": [
    "# Egitim icin kullanilacak kolonlar ve tahmin edilecek kolonlar belirleniyor.\n",
    "train_cols = [\n",
    "    \"log_income\",  # Kişinin yıllık gelirinin logaritması\n",
    "    \"log_person_age\",  # Kişinin yaşının logaritması\n",
    "    \"person_income\",  # Kişinin yıllık geliri\n",
    "    \"person_age\",  # Kişinin yaşı\n",
    "    \"person_emp_length\",  # Kişinin iş deneyimi (yıl olarak)\n",
    "    \"loan_amnt\",  # İstenen kredi miktarı\n",
    "    \"loan_intent_VENTURE\", # Girişimcilik amacıyla kredi\n",
    "    \"loan_intent_PERSONAL\", # Kişisel harcamalar için kredi\n",
    "    \"loan_intent_MEDICAL\", # Tıbbi harcamalar için kredi\n",
    "    \"loan_intent_HOMEIMPROVEMENT\", # Ev iyileştirme amacıyla kredi\n",
    "    \"loan_intent_EDUCATION\", # Eğitim amacıyla kredi\n",
    "    \"loan_intent_DEBTCONSOLIDATION\", # Borç konsolidasyonu için kredi\n",
    "    \"person_home_ownership_OWN\", # Kişinin ev sahibi olduğu durum\n",
    "    \"person_home_ownership_RENT\", # Kişinin kiracı olduğu durum\n",
    "    \"person_home_ownership_MORTGAGE\", # Kişinin ipotekli ev sahibi olduğu durum\n",
    "    \"cb_person_default_on_file\", # Kişinin kredi geçmişinde varsayılan durumu\n",
    "    \"loan_percent_income\" # Kredi miktarının yıllık gelire oranı\n",
    "]\n",
    "\n",
    "predict_cols = [\n",
    "    \"loan_grade\" # Kredi notu (0-6 arası) *A en yüksek, G en düşük*\n",
    "]\n",
    "\n",
    "\n",
    "df = df[[*predict_cols, *train_cols]].astype(float)"
   ],
   "metadata": {
    "collapsed": false,
    "ExecuteTime": {
     "end_time": "2025-06-03T22:39:17.169434Z",
     "start_time": "2025-06-03T22:39:17.161087Z"
    }
   },
   "id": "8597ba73ff54fa68",
   "execution_count": 5
  },
  {
   "cell_type": "code",
   "outputs": [
    {
     "name": "stdout",
     "output_type": "stream",
     "text": [
      "                                         min            max          mean\n",
      "loan_grade                          0.000000       6.000000      4.783826\n",
      "log_income                          9.488048      12.358798     10.921995\n",
      "log_person_age                      2.995732       4.605170      3.300605\n",
      "person_income                   13200.000000  233000.000000  63273.934442\n",
      "person_age                         20.000000     100.000000     27.701887\n",
      "person_emp_length                   0.000000     123.000000      4.789899\n",
      "loan_amnt                         500.000000   35000.000000   9571.057398\n",
      "loan_intent_VENTURE                 0.000000       1.000000      0.174905\n",
      "loan_intent_PERSONAL                0.000000       1.000000      0.169360\n",
      "loan_intent_MEDICAL                 0.000000       1.000000      0.186466\n",
      "loan_intent_HOMEIMPROVEMENT         0.000000       1.000000      0.110607\n",
      "loan_intent_EDUCATION               0.000000       1.000000      0.198469\n",
      "loan_intent_DEBTCONSOLIDATION       0.000000       1.000000      0.160193\n",
      "person_home_ownership_OWN           0.000000       1.000000      0.078127\n",
      "person_home_ownership_RENT          0.000000       1.000000      0.507892\n",
      "person_home_ownership_MORTGAGE      0.000000       1.000000      0.413981\n",
      "cb_person_default_on_file           0.000000       1.000000      0.175692\n",
      "loan_percent_income                 0.010000       0.830000      0.170404\n"
     ]
    }
   ],
   "source": [
    "summary = pd.DataFrame({\n",
    "    'min': df.min(),\n",
    "    'max': df.max(),\n",
    "    'mean': df.mean()\n",
    "})\n",
    "print(summary)"
   ],
   "metadata": {
    "collapsed": false,
    "ExecuteTime": {
     "end_time": "2025-06-03T22:39:17.908272Z",
     "start_time": "2025-06-03T22:39:17.896904Z"
    }
   },
   "id": "43ab2d8f3d90f66b",
   "execution_count": 6
  },
  {
   "cell_type": "code",
   "outputs": [],
   "source": [
    "from sklearn.preprocessing import StandardScaler\n",
    "scaler = StandardScaler()\n",
    "cont_cols = [\n",
    "    \"log_income\",\n",
    "    \"log_person_age\",\n",
    "    \"loan_percent_income\",\n",
    "    \"person_income\",\n",
    "    \"person_age\",\n",
    "    \"person_emp_length\",\n",
    "    \"loan_amnt\",\n",
    "]\n",
    "\n",
    "target_df = df[cont_cols]\n",
    "df_temp = df.drop(columns=cont_cols)\n",
    "scaler.fit(target_df)\n",
    "target_df = pd.DataFrame(\n",
    "    scaler.transform(target_df),\n",
    "    columns=target_df.columns\n",
    ")\n",
    "df = pd.concat([target_df, df_temp], axis=1)"
   ],
   "metadata": {
    "collapsed": false,
    "ExecuteTime": {
     "end_time": "2025-06-03T22:39:18.722422Z",
     "start_time": "2025-06-03T22:39:18.562378Z"
    }
   },
   "id": "48fe167ec3944e5f",
   "execution_count": 7
  },
  {
   "cell_type": "code",
   "outputs": [
    {
     "name": "stdout",
     "output_type": "stream",
     "text": [
      "                                     min        max          mean\n",
      "log_income                     -2.772662   2.778184 -2.492708e-15\n",
      "log_person_age                 -1.551861   6.640501 -3.552826e-15\n",
      "loan_percent_income            -1.515502   6.231904 -2.865182e-16\n",
      "person_income                  -1.454948   4.931559  7.162955e-17\n",
      "person_age                     -1.239412  11.634438  5.730364e-17\n",
      "person_emp_length              -1.174451  28.984329 -2.865182e-17\n",
      "loan_amnt                      -1.455413   4.079966  8.595546e-17\n",
      "loan_grade                      0.000000   6.000000  4.783826e+00\n",
      "loan_intent_VENTURE             0.000000   1.000000  1.749047e-01\n",
      "loan_intent_PERSONAL            0.000000   1.000000  1.693602e-01\n",
      "loan_intent_MEDICAL             0.000000   1.000000  1.864663e-01\n",
      "loan_intent_HOMEIMPROVEMENT     0.000000   1.000000  1.106071e-01\n",
      "loan_intent_EDUCATION           0.000000   1.000000  1.984690e-01\n",
      "loan_intent_DEBTCONSOLIDATION   0.000000   1.000000  1.601928e-01\n",
      "person_home_ownership_OWN       0.000000   1.000000  7.812746e-02\n",
      "person_home_ownership_RENT      0.000000   1.000000  5.078915e-01\n",
      "person_home_ownership_MORTGAGE  0.000000   1.000000  4.139810e-01\n",
      "cb_person_default_on_file       0.000000   1.000000  1.756923e-01\n"
     ]
    }
   ],
   "source": [
    "summary = pd.DataFrame({\n",
    "    'min': df.min(),\n",
    "    'max': df.max(),\n",
    "    'mean': df.mean()\n",
    "})\n",
    "print(summary)"
   ],
   "metadata": {
    "collapsed": false,
    "ExecuteTime": {
     "end_time": "2025-06-03T22:39:19.385915Z",
     "start_time": "2025-06-03T22:39:19.370914Z"
    }
   },
   "id": "3e059398ab3f5240",
   "execution_count": 8
  },
  {
   "cell_type": "code",
   "outputs": [
    {
     "name": "stdout",
     "output_type": "stream",
     "text": [
      "Train size: 22854\n",
      "Val size: 5714\n",
      "Test size: 3175\n",
      "\n",
      "Class distribution in training set:\n",
      "0.0      46\n",
      "1.0     169\n",
      "2.0     669\n",
      "3.0    2540\n",
      "4.0    4530\n",
      "5.0    7320\n",
      "6.0    7580\n",
      "Name: count, dtype: int64\n"
     ]
    }
   ],
   "source": [
    "from sklearn.model_selection import train_test_split\n",
    "\n",
    "X = df[train_cols]\n",
    "y = df[predict_cols].values.ravel()\n",
    "\n",
    "X_temp, X_test, y_temp, y_test = train_test_split(\n",
    "    X, y, test_size=0.1, stratify=y, random_state=42\n",
    ")\n",
    "\n",
    "X_train, X_val, y_train, y_val = train_test_split(\n",
    "    X_temp, y_temp, test_size=0.2, stratify=y_temp, random_state=42\n",
    ")\n",
    "\n",
    "print(f\"Train size: {len(X_train)}\")\n",
    "print(f\"Val size: {len(X_val)}\")\n",
    "print(f\"Test size: {len(X_test)}\")\n",
    "print(f\"\\nClass distribution in training set:\")\n",
    "print(pd.Series(y_train).value_counts().sort_index())"
   ],
   "metadata": {
    "collapsed": false,
    "ExecuteTime": {
     "end_time": "2025-06-03T22:39:20.014529Z",
     "start_time": "2025-06-03T22:39:19.844154Z"
    }
   },
   "id": "5a487da2c336eeeb",
   "execution_count": 9
  },
  {
   "cell_type": "code",
   "outputs": [],
   "source": [
    "def evaluate_model(y_true, y_pred, model_name):\n",
    "    from sklearn.metrics import accuracy_score, f1_score, cohen_kappa_score, mean_absolute_error\n",
    "    \"\"\"Calculate 4 different metrics for model evaluation\"\"\"\n",
    "    # 1. Accuracy\n",
    "    accuracy = accuracy_score(y_true, y_pred)\n",
    "\n",
    "    # 2. Weighted F1 Score (handles class imbalance)\n",
    "    f1 = f1_score(y_true, y_pred, average='weighted')\n",
    "\n",
    "    # 3. Cohen's Kappa (measures agreement beyond chance)\n",
    "    kappa = cohen_kappa_score(y_true, y_pred)\n",
    "\n",
    "    # 4. Mean Absolute Error (important for ordinal data)\n",
    "    mae = mean_absolute_error(y_true, y_pred)\n",
    "\n",
    "    results = {\n",
    "        'Model': model_name,\n",
    "        'Accuracy': accuracy,\n",
    "        'Weighted F1': f1,\n",
    "        'Cohen Kappa': kappa,\n",
    "        'MAE': mae\n",
    "    }\n",
    "\n",
    "    return results"
   ],
   "metadata": {
    "collapsed": false,
    "ExecuteTime": {
     "end_time": "2025-06-03T22:39:20.634596Z",
     "start_time": "2025-06-03T22:39:20.630074Z"
    }
   },
   "id": "c8efc3cdcb0a16fb",
   "execution_count": 10
  },
  {
   "cell_type": "code",
   "outputs": [
    {
     "name": "stdout",
     "output_type": "stream",
     "text": [
      "\n",
      "==================================================\n",
      "MODEL 1: Random Forest Classifier\n",
      "==================================================\n",
      "Accuracy: 0.4728\n",
      "Weighted F1: 0.4674\n",
      "Cohen Kappa: 0.2673\n",
      "MAE: 0.7792\n"
     ]
    }
   ],
   "source": [
    "from sklearn.ensemble import RandomForestClassifier\n",
    "\n",
    "print(\"\\n\" + \"=\" * 50)\n",
    "print(\"MODEL 1: Random Forest Classifier\")\n",
    "print(\"=\" * 50)\n",
    "\n",
    "rf_model = RandomForestClassifier(\n",
    "    n_estimators=200,\n",
    "    max_depth=15,\n",
    "    min_samples_split=20,\n",
    "    min_samples_leaf=10,\n",
    "    class_weight='balanced',\n",
    "    random_state=42,\n",
    "    n_jobs=-1\n",
    ")\n",
    "\n",
    "rf_model.fit(X_train, y_train)\n",
    "rf_pred = rf_model.predict(X_test)\n",
    "rf_results = evaluate_model(y_test, rf_pred, \"Random Forest\")\n",
    "\n",
    "print(f\"Accuracy: {rf_results['Accuracy']:.4f}\")\n",
    "print(f\"Weighted F1: {rf_results['Weighted F1']:.4f}\")\n",
    "print(f\"Cohen Kappa: {rf_results['Cohen Kappa']:.4f}\")\n",
    "print(f\"MAE: {rf_results['MAE']:.4f}\")"
   ],
   "metadata": {
    "collapsed": false,
    "ExecuteTime": {
     "end_time": "2025-06-03T22:39:23.296807Z",
     "start_time": "2025-06-03T22:39:21.767854Z"
    }
   },
   "id": "428e720fd136a3fd",
   "execution_count": 11
  },
  {
   "cell_type": "code",
   "outputs": [
    {
     "data": {
      "text/plain": "       log_income  log_person_age  person_income  person_age  \\\n6349    -0.197606       -0.623808      -0.385687   -0.595719   \n27651   -0.197606        0.997186      -0.385687    0.852589   \n7035     0.560429       -0.840445       0.311656   -0.756642   \n26628    1.574099       -0.024269       1.793512   -0.112950   \n2509    -0.629064       -0.623808      -0.676247   -0.595719   \n...           ...             ...            ...         ...   \n8085    -0.832783       -0.416016      -0.792471   -0.434796   \n19538   -1.930988        0.678944      -1.245745    0.530743   \n13424    1.043456       -0.840445       0.921832   -0.756642   \n19646   -1.250589        0.160850      -0.995747    0.047973   \n20166   -0.534726       -0.024269      -0.618135   -0.112950   \n\n       person_emp_length  loan_amnt  loan_intent_VENTURE  \\\n6349            0.051515  -0.733407                  1.0   \n27651           0.541902   0.068822                  0.0   \n7035            0.541902  -0.412515                  0.0   \n26628           1.522675   1.027485                  0.0   \n2509           -0.929258  -1.054298                  0.0   \n...                  ...        ...                  ...   \n8085           -1.174451  -0.332292                  0.0   \n19538          -1.174451  -0.909897                  0.0   \n13424          -0.193678  -0.829674                  0.0   \n19646          -1.174451  -0.893852                  0.0   \n20166          -1.174451  -0.861763                  0.0   \n\n       loan_intent_PERSONAL  loan_intent_MEDICAL  loan_intent_HOMEIMPROVEMENT  \\\n6349                    0.0                  0.0                          0.0   \n27651                   0.0                  0.0                          1.0   \n7035                    0.0                  0.0                          1.0   \n26628                   1.0                  0.0                          0.0   \n2509                    1.0                  0.0                          0.0   \n...                     ...                  ...                          ...   \n8085                    0.0                  0.0                          0.0   \n19538                   0.0                  1.0                          0.0   \n13424                   0.0                  1.0                          0.0   \n19646                   1.0                  0.0                          0.0   \n20166                   0.0                  0.0                          1.0   \n\n       loan_intent_EDUCATION  loan_intent_DEBTCONSOLIDATION  \\\n6349                     0.0                            0.0   \n27651                    0.0                            0.0   \n7035                     0.0                            0.0   \n26628                    0.0                            0.0   \n2509                     0.0                            0.0   \n...                      ...                            ...   \n8085                     0.0                            1.0   \n19538                    0.0                            0.0   \n13424                    0.0                            0.0   \n19646                    0.0                            0.0   \n20166                    0.0                            0.0   \n\n       person_home_ownership_OWN  person_home_ownership_RENT  \\\n6349                         1.0                         0.0   \n27651                        0.0                         0.0   \n7035                         0.0                         1.0   \n26628                        0.0                         0.0   \n2509                         0.0                         1.0   \n...                          ...                         ...   \n8085                         0.0                         1.0   \n19538                        0.0                         1.0   \n13424                        0.0                         0.0   \n19646                        0.0                         1.0   \n20166                        0.0                         0.0   \n\n       person_home_ownership_MORTGAGE  cb_person_default_on_file  \\\n6349                              0.0                        0.0   \n27651                             1.0                        0.0   \n7035                              0.0                        0.0   \n26628                             1.0                        1.0   \n2509                              0.0                        0.0   \n...                               ...                        ...   \n8085                              0.0                        0.0   \n19538                             0.0                        1.0   \n13424                             1.0                        0.0   \n19646                             0.0                        0.0   \n20166                             1.0                        0.0   \n\n       loan_percent_income  \n6349             -0.665177  \n27651             0.279629  \n7035             -0.759657  \n26628            -0.381735  \n2509             -0.948618  \n...                    ...  \n8085              0.374109  \n19538             0.185148  \n13424            -1.137579  \n19646            -0.287254  \n20166            -0.665177  \n\n[22854 rows x 17 columns]",
      "text/html": "<div>\n<style scoped>\n    .dataframe tbody tr th:only-of-type {\n        vertical-align: middle;\n    }\n\n    .dataframe tbody tr th {\n        vertical-align: top;\n    }\n\n    .dataframe thead th {\n        text-align: right;\n    }\n</style>\n<table border=\"1\" class=\"dataframe\">\n  <thead>\n    <tr style=\"text-align: right;\">\n      <th></th>\n      <th>log_income</th>\n      <th>log_person_age</th>\n      <th>person_income</th>\n      <th>person_age</th>\n      <th>person_emp_length</th>\n      <th>loan_amnt</th>\n      <th>loan_intent_VENTURE</th>\n      <th>loan_intent_PERSONAL</th>\n      <th>loan_intent_MEDICAL</th>\n      <th>loan_intent_HOMEIMPROVEMENT</th>\n      <th>loan_intent_EDUCATION</th>\n      <th>loan_intent_DEBTCONSOLIDATION</th>\n      <th>person_home_ownership_OWN</th>\n      <th>person_home_ownership_RENT</th>\n      <th>person_home_ownership_MORTGAGE</th>\n      <th>cb_person_default_on_file</th>\n      <th>loan_percent_income</th>\n    </tr>\n  </thead>\n  <tbody>\n    <tr>\n      <th>6349</th>\n      <td>-0.197606</td>\n      <td>-0.623808</td>\n      <td>-0.385687</td>\n      <td>-0.595719</td>\n      <td>0.051515</td>\n      <td>-0.733407</td>\n      <td>1.0</td>\n      <td>0.0</td>\n      <td>0.0</td>\n      <td>0.0</td>\n      <td>0.0</td>\n      <td>0.0</td>\n      <td>1.0</td>\n      <td>0.0</td>\n      <td>0.0</td>\n      <td>0.0</td>\n      <td>-0.665177</td>\n    </tr>\n    <tr>\n      <th>27651</th>\n      <td>-0.197606</td>\n      <td>0.997186</td>\n      <td>-0.385687</td>\n      <td>0.852589</td>\n      <td>0.541902</td>\n      <td>0.068822</td>\n      <td>0.0</td>\n      <td>0.0</td>\n      <td>0.0</td>\n      <td>1.0</td>\n      <td>0.0</td>\n      <td>0.0</td>\n      <td>0.0</td>\n      <td>0.0</td>\n      <td>1.0</td>\n      <td>0.0</td>\n      <td>0.279629</td>\n    </tr>\n    <tr>\n      <th>7035</th>\n      <td>0.560429</td>\n      <td>-0.840445</td>\n      <td>0.311656</td>\n      <td>-0.756642</td>\n      <td>0.541902</td>\n      <td>-0.412515</td>\n      <td>0.0</td>\n      <td>0.0</td>\n      <td>0.0</td>\n      <td>1.0</td>\n      <td>0.0</td>\n      <td>0.0</td>\n      <td>0.0</td>\n      <td>1.0</td>\n      <td>0.0</td>\n      <td>0.0</td>\n      <td>-0.759657</td>\n    </tr>\n    <tr>\n      <th>26628</th>\n      <td>1.574099</td>\n      <td>-0.024269</td>\n      <td>1.793512</td>\n      <td>-0.112950</td>\n      <td>1.522675</td>\n      <td>1.027485</td>\n      <td>0.0</td>\n      <td>1.0</td>\n      <td>0.0</td>\n      <td>0.0</td>\n      <td>0.0</td>\n      <td>0.0</td>\n      <td>0.0</td>\n      <td>0.0</td>\n      <td>1.0</td>\n      <td>1.0</td>\n      <td>-0.381735</td>\n    </tr>\n    <tr>\n      <th>2509</th>\n      <td>-0.629064</td>\n      <td>-0.623808</td>\n      <td>-0.676247</td>\n      <td>-0.595719</td>\n      <td>-0.929258</td>\n      <td>-1.054298</td>\n      <td>0.0</td>\n      <td>1.0</td>\n      <td>0.0</td>\n      <td>0.0</td>\n      <td>0.0</td>\n      <td>0.0</td>\n      <td>0.0</td>\n      <td>1.0</td>\n      <td>0.0</td>\n      <td>0.0</td>\n      <td>-0.948618</td>\n    </tr>\n    <tr>\n      <th>...</th>\n      <td>...</td>\n      <td>...</td>\n      <td>...</td>\n      <td>...</td>\n      <td>...</td>\n      <td>...</td>\n      <td>...</td>\n      <td>...</td>\n      <td>...</td>\n      <td>...</td>\n      <td>...</td>\n      <td>...</td>\n      <td>...</td>\n      <td>...</td>\n      <td>...</td>\n      <td>...</td>\n      <td>...</td>\n    </tr>\n    <tr>\n      <th>8085</th>\n      <td>-0.832783</td>\n      <td>-0.416016</td>\n      <td>-0.792471</td>\n      <td>-0.434796</td>\n      <td>-1.174451</td>\n      <td>-0.332292</td>\n      <td>0.0</td>\n      <td>0.0</td>\n      <td>0.0</td>\n      <td>0.0</td>\n      <td>0.0</td>\n      <td>1.0</td>\n      <td>0.0</td>\n      <td>1.0</td>\n      <td>0.0</td>\n      <td>0.0</td>\n      <td>0.374109</td>\n    </tr>\n    <tr>\n      <th>19538</th>\n      <td>-1.930988</td>\n      <td>0.678944</td>\n      <td>-1.245745</td>\n      <td>0.530743</td>\n      <td>-1.174451</td>\n      <td>-0.909897</td>\n      <td>0.0</td>\n      <td>0.0</td>\n      <td>1.0</td>\n      <td>0.0</td>\n      <td>0.0</td>\n      <td>0.0</td>\n      <td>0.0</td>\n      <td>1.0</td>\n      <td>0.0</td>\n      <td>1.0</td>\n      <td>0.185148</td>\n    </tr>\n    <tr>\n      <th>13424</th>\n      <td>1.043456</td>\n      <td>-0.840445</td>\n      <td>0.921832</td>\n      <td>-0.756642</td>\n      <td>-0.193678</td>\n      <td>-0.829674</td>\n      <td>0.0</td>\n      <td>0.0</td>\n      <td>1.0</td>\n      <td>0.0</td>\n      <td>0.0</td>\n      <td>0.0</td>\n      <td>0.0</td>\n      <td>0.0</td>\n      <td>1.0</td>\n      <td>0.0</td>\n      <td>-1.137579</td>\n    </tr>\n    <tr>\n      <th>19646</th>\n      <td>-1.250589</td>\n      <td>0.160850</td>\n      <td>-0.995747</td>\n      <td>0.047973</td>\n      <td>-1.174451</td>\n      <td>-0.893852</td>\n      <td>0.0</td>\n      <td>1.0</td>\n      <td>0.0</td>\n      <td>0.0</td>\n      <td>0.0</td>\n      <td>0.0</td>\n      <td>0.0</td>\n      <td>1.0</td>\n      <td>0.0</td>\n      <td>0.0</td>\n      <td>-0.287254</td>\n    </tr>\n    <tr>\n      <th>20166</th>\n      <td>-0.534726</td>\n      <td>-0.024269</td>\n      <td>-0.618135</td>\n      <td>-0.112950</td>\n      <td>-1.174451</td>\n      <td>-0.861763</td>\n      <td>0.0</td>\n      <td>0.0</td>\n      <td>0.0</td>\n      <td>1.0</td>\n      <td>0.0</td>\n      <td>0.0</td>\n      <td>0.0</td>\n      <td>0.0</td>\n      <td>1.0</td>\n      <td>0.0</td>\n      <td>-0.665177</td>\n    </tr>\n  </tbody>\n</table>\n<p>22854 rows × 17 columns</p>\n</div>"
     },
     "execution_count": 12,
     "metadata": {},
     "output_type": "execute_result"
    }
   ],
   "source": [
    "X_train"
   ],
   "metadata": {
    "collapsed": false,
    "ExecuteTime": {
     "end_time": "2025-06-03T22:39:23.955857Z",
     "start_time": "2025-06-03T22:39:23.935856Z"
    }
   },
   "id": "3ec560bcb78eb7cb",
   "execution_count": 12
  },
  {
   "cell_type": "code",
   "outputs": [
    {
     "name": "stdout",
     "output_type": "stream",
     "text": [
      "\n",
      "==================================================\n",
      "MODEL 2: XGBoost Classifier\n",
      "==================================================\n",
      "Accuracy: 0.4778\n",
      "Weighted F1: 0.4734\n",
      "Cohen Kappa: 0.2776\n",
      "MAE: 0.7641\n"
     ]
    }
   ],
   "source": [
    "import numpy as np\n",
    "import xgboost as xgb\n",
    "\n",
    "\n",
    "print(\"\\n\" + \"=\" * 50)\n",
    "print(\"MODEL 2: XGBoost Classifier\")\n",
    "print(\"=\" * 50)\n",
    "\n",
    "# Calculate class weights for XGBoost\n",
    "from sklearn.utils.class_weight import compute_class_weight\n",
    "\n",
    "classes = np.unique(y_train)\n",
    "class_weights = compute_class_weight('balanced', classes=classes, y=y_train)\n",
    "sample_weights = np.array([class_weights[int(y)] for y in y_train])\n",
    "\n",
    "xgb_model = xgb.XGBClassifier(\n",
    "    n_estimators=300,\n",
    "    max_depth=8,\n",
    "    learning_rate=0.1,\n",
    "    subsample=0.8,\n",
    "    colsample_bytree=0.8,\n",
    "    objective='multi:softmax',\n",
    "    num_class=7,\n",
    "    random_state=42,\n",
    "    early_stopping_rounds=50,\n",
    ")\n",
    "\n",
    "xgb_model.fit(\n",
    "    X_train, y_train,\n",
    "    sample_weight=sample_weights,\n",
    "    eval_set=[(X_val, y_val)],\n",
    "    verbose=False,\n",
    ")\n",
    "\n",
    "xgb_pred = xgb_model.predict(X_test)\n",
    "xgb_results = evaluate_model(y_test, xgb_pred, \"XGBoost\")\n",
    "\n",
    "print(f\"Accuracy: {xgb_results['Accuracy']:.4f}\")\n",
    "print(f\"Weighted F1: {xgb_results['Weighted F1']:.4f}\")\n",
    "print(f\"Cohen Kappa: {xgb_results['Cohen Kappa']:.4f}\")\n",
    "print(f\"MAE: {xgb_results['MAE']:.4f}\")"
   ],
   "metadata": {
    "collapsed": false,
    "ExecuteTime": {
     "end_time": "2025-06-03T22:39:28.791382Z",
     "start_time": "2025-06-03T22:39:24.721959Z"
    }
   },
   "id": "ac14b61489ca744d",
   "execution_count": 13
  },
  {
   "cell_type": "code",
   "outputs": [
    {
     "name": "stdout",
     "output_type": "stream",
     "text": [
      "\n",
      "==================================================\n",
      "MODEL 3: Neural Network (Ordinal)\n",
      "==================================================\n",
      "Accuracy: 0.4986\n",
      "Weighted F1: 0.4628\n",
      "Cohen Kappa: 0.2837\n",
      "MAE: 0.6611\n"
     ]
    }
   ],
   "source": [
    "import torch\n",
    "from nn_model import OrdinalNN\n",
    "import torch.optim as optim\n",
    "\n",
    "print(\"\\n\" + \"=\" * 50)\n",
    "print(\"MODEL 3: Neural Network (Ordinal)\")\n",
    "print(\"=\" * 50)\n",
    "\n",
    "# Convert to PyTorch tensors\n",
    "device = torch.device(\"cuda\" if torch.cuda.is_available() else \"cpu\")\n",
    "X_train_tensor = torch.tensor(X_train.values, dtype=torch.float32, device=device)\n",
    "y_train_tensor = torch.tensor(y_train, dtype=torch.long, device=device)\n",
    "X_test_tensor = torch.tensor(X_test.values, dtype=torch.float32, device=device)\n",
    "\n",
    "# Training\n",
    "ordinal_model = OrdinalNN(X_train_tensor.shape[1], 7).to(device)\n",
    "optimizer = optim.Adam(ordinal_model.parameters(), lr=0.001)\n",
    "\n",
    "\n",
    "# Custom loss for ordinal regression\n",
    "def ordinal_loss(logits, targets, num_classes=7):\n",
    "    \"\"\"Custom loss for ordinal regression\"\"\"\n",
    "    import torch.nn.functional as F\n",
    "    loss = 0\n",
    "\n",
    "    for i in range(num_classes - 1):\n",
    "        # Create binary targets for each threshold\n",
    "        binary_target = (targets > i).float()\n",
    "        binary_logit = logits[:, i]\n",
    "        loss += F.binary_cross_entropy_with_logits(binary_logit, binary_target)\n",
    "\n",
    "    return loss / (num_classes - 1)\n",
    "\n",
    "\n",
    "# Train the model\n",
    "ordinal_model.train()\n",
    "for epoch in range(200):\n",
    "    optimizer.zero_grad()\n",
    "    logits, _ = ordinal_model(X_train_tensor)\n",
    "    loss = ordinal_loss(logits, y_train_tensor.float())\n",
    "    loss.backward()\n",
    "    optimizer.step()\n",
    "\n",
    "# Evaluate\n",
    "ordinal_model.eval()\n",
    "with torch.no_grad():\n",
    "    _, predictions = ordinal_model(X_test_tensor)\n",
    "    nn_ordinal_pred = predictions.cpu().numpy()\n",
    "\n",
    "nn_ordinal_results = evaluate_model(y_test, nn_ordinal_pred, \"Neural Network (Ordinal)\")\n",
    "\n",
    "print(f\"Accuracy: {nn_ordinal_results['Accuracy']:.4f}\")\n",
    "print(f\"Weighted F1: {nn_ordinal_results['Weighted F1']:.4f}\")\n",
    "print(f\"Cohen Kappa: {nn_ordinal_results['Cohen Kappa']:.4f}\")\n",
    "print(f\"MAE: {nn_ordinal_results['MAE']:.4f}\")"
   ],
   "metadata": {
    "collapsed": false,
    "ExecuteTime": {
     "end_time": "2025-06-03T22:40:43.445974Z",
     "start_time": "2025-06-03T22:40:19.950783Z"
    }
   },
   "id": "496b5f9e180951b4",
   "execution_count": 14
  },
  {
   "cell_type": "code",
   "outputs": [
    {
     "name": "stdout",
     "output_type": "stream",
     "text": [
      "\n",
      "==================================================\n",
      "MODEL 4: Gradient Boosting (Ordinal)\n",
      "==================================================\n",
      "Accuracy: 0.5096\n",
      "Weighted F1: 0.4905\n",
      "Cohen Kappa: 0.3031\n",
      "MAE: 0.6825\n"
     ]
    }
   ],
   "source": [
    "from sklearn.ensemble import  GradientBoostingClassifier\n",
    "\n",
    "\n",
    "print(\"\\n\" + \"=\" * 50)\n",
    "print(\"MODEL 4: Gradient Boosting (Ordinal)\")\n",
    "print(\"=\" * 50)\n",
    "\n",
    "# Use GradientBoostingClassifier with ordinal-aware settings\n",
    "gb_model = GradientBoostingClassifier(\n",
    "    n_estimators=200,\n",
    "    learning_rate=0.1,\n",
    "    max_depth=5,\n",
    "    min_samples_split=20,\n",
    "    min_samples_leaf=10,\n",
    "    subsample=0.8,\n",
    "    random_state=42\n",
    ")\n",
    "\n",
    "gb_model.fit(X_train, y_train)\n",
    "gb_pred = gb_model.predict(X_test)\n",
    "gb_results = evaluate_model(y_test, gb_pred, \"Gradient Boosting\")\n",
    "\n",
    "print(f\"Accuracy: {gb_results['Accuracy']:.4f}\")\n",
    "print(f\"Weighted F1: {gb_results['Weighted F1']:.4f}\")\n",
    "print(f\"Cohen Kappa: {gb_results['Cohen Kappa']:.4f}\")\n",
    "print(f\"MAE: {gb_results['MAE']:.4f}\")"
   ],
   "metadata": {
    "collapsed": false,
    "ExecuteTime": {
     "end_time": "2025-06-03T22:41:48.839836Z",
     "start_time": "2025-06-03T22:41:00.352488Z"
    }
   },
   "id": "e1e8ade3913f5055",
   "execution_count": 15
  },
  {
   "cell_type": "code",
   "outputs": [
    {
     "name": "stdout",
     "output_type": "stream",
     "text": [
      "\n",
      "==================================================\n",
      "MODEL 5: Support Vector Machine (RBF)\n",
      "==================================================\n",
      "Accuracy: 0.4031\n",
      "Weighted F1: 0.4179\n",
      "Cohen Kappa: 0.2042\n",
      "MAE: 1.1272\n"
     ]
    }
   ],
   "source": [
    "from sklearn.svm import SVC\n",
    "\n",
    "\n",
    "print(\"\\n\" + \"=\" * 50)\n",
    "print(\"MODEL 5: Support Vector Machine (RBF)\")\n",
    "print(\"=\" * 50)\n",
    "\n",
    "# SVM with class weights\n",
    "svm_model = SVC(\n",
    "    kernel='rbf',\n",
    "    C=1.0,\n",
    "    gamma='scale',\n",
    "    class_weight='balanced',\n",
    "    random_state=42\n",
    ")\n",
    "\n",
    "# Note: SVM can be slow, so we'll use a subset for training if needed\n",
    "svm_model.fit(X_train, y_train)\n",
    "svm_pred = svm_model.predict(X_test)\n",
    "svm_results = evaluate_model(y_test, svm_pred, \"SVM (RBF)\")\n",
    "\n",
    "print(f\"Accuracy: {svm_results['Accuracy']:.4f}\")\n",
    "print(f\"Weighted F1: {svm_results['Weighted F1']:.4f}\")\n",
    "print(f\"Cohen Kappa: {svm_results['Cohen Kappa']:.4f}\")\n",
    "print(f\"MAE: {svm_results['MAE']:.4f}\")"
   ],
   "metadata": {
    "collapsed": false,
    "ExecuteTime": {
     "end_time": "2025-06-03T22:44:35.281868Z",
     "start_time": "2025-06-03T22:43:59.770702Z"
    }
   },
   "id": "ae2d03171d3afe0",
   "execution_count": 16
  },
  {
   "cell_type": "code",
   "outputs": [
    {
     "name": "stdout",
     "output_type": "stream",
     "text": [
      "\n",
      "==================================================\n",
      "MODEL 6: LightGBM\n",
      "==================================================\n",
      "[LightGBM] [Info] Auto-choosing row-wise multi-threading, the overhead of testing was 0.000478 seconds.\n",
      "You can set `force_row_wise=true` to remove the overhead.\n",
      "And if memory is not enough, you can set `force_col_wise=true`.\n",
      "[LightGBM] [Info] Total Bins 974\n",
      "[LightGBM] [Info] Number of data points in the train set: 22854, number of used features: 17\n",
      "[LightGBM] [Info] Start training from score -1.945910\n",
      "[LightGBM] [Info] Start training from score -1.945910\n",
      "[LightGBM] [Info] Start training from score -1.945910\n",
      "[LightGBM] [Info] Start training from score -1.945910\n",
      "[LightGBM] [Info] Start training from score -1.945910\n",
      "[LightGBM] [Info] Start training from score -1.945910\n",
      "[LightGBM] [Info] Start training from score -1.945910\n",
      "Accuracy: 0.4608\n",
      "Weighted F1: 0.4575\n",
      "Cohen Kappa: 0.2561\n",
      "MAE: 0.8079\n"
     ]
    }
   ],
   "source": [
    "from lightgbm import LGBMClassifier\n",
    "\n",
    "print(\"\\n\" + \"=\" * 50)\n",
    "print(\"MODEL 6: LightGBM\")\n",
    "print(\"=\" * 50)\n",
    "\n",
    "classes = np.unique(y_train)\n",
    "class_weights = compute_class_weight(class_weight='balanced', classes=classes, y=y_train)\n",
    "weights_dict = dict(zip(classes, class_weights))\n",
    "\n",
    "# ✅ Use LGBMClassifier instead of LGBMModel\n",
    "lgb_model = LGBMClassifier(\n",
    "    objective='multiclass',\n",
    "    num_class=7,  # Grades 0-6\n",
    "    random_state=42,\n",
    "    class_weight=weights_dict\n",
    ")\n",
    "\n",
    "lgb_model.fit(X_train, y_train)\n",
    "lgb_pred = lgb_model.predict(X_test)  # ✅ returns class labels\n",
    "\n",
    "# Now this works\n",
    "lgb_results = evaluate_model(y_test, lgb_pred, \"LightGBM\")\n",
    "\n",
    "print(f\"Accuracy: {lgb_results['Accuracy']:.4f}\")\n",
    "print(f\"Weighted F1: {lgb_results['Weighted F1']:.4f}\")\n",
    "print(f\"Cohen Kappa: {lgb_results['Cohen Kappa']:.4f}\")\n",
    "print(f\"MAE: {lgb_results['MAE']:.4f}\")\n"
   ],
   "metadata": {
    "collapsed": false,
    "ExecuteTime": {
     "end_time": "2025-06-03T22:44:39.380523Z",
     "start_time": "2025-06-03T22:44:37.253851Z"
    }
   },
   "id": "272ecdff816de4b3",
   "execution_count": 17
  },
  {
   "cell_type": "code",
   "outputs": [
    {
     "name": "stdout",
     "output_type": "stream",
     "text": [
      "\n",
      "==================================================\n",
      "SUMMARY OF ALL MODELS\n",
      "==================================================\n",
      "                   Model  Accuracy  Weighted F1  Cohen Kappa      MAE\n",
      "       Gradient Boosting  0.509606     0.490533     0.303140 0.682520\n",
      "Neural Network (Ordinal)  0.498583     0.462832     0.283685 0.661102\n",
      "                 XGBoost  0.477795     0.473377     0.277573 0.764094\n",
      "           Random Forest  0.472756     0.467419     0.267338 0.779213\n",
      "                LightGBM  0.460787     0.457496     0.256121 0.807874\n",
      "               SVM (RBF)  0.403150     0.417948     0.204230 1.127244\n",
      "\n",
      "==================================================\n",
      "BEST MODEL FOR EACH METRIC\n",
      "==================================================\n",
      "Best Accuracy: Gradient Boosting (0.5096)\n",
      "Best Weighted F1: Gradient Boosting (0.4905)\n",
      "Best Cohen Kappa: Gradient Boosting (0.3031)\n",
      "Best MAE: Neural Network (Ordinal) (0.6611)\n"
     ]
    }
   ],
   "source": [
    "import pandas as pd\n",
    "\n",
    "print(\"\\n\" + \"=\" * 50)\n",
    "print(\"SUMMARY OF ALL MODELS\")\n",
    "print(\"=\" * 50)\n",
    "\n",
    "results_df = pd.DataFrame([\n",
    "    rf_results,\n",
    "    xgb_results,\n",
    "    nn_ordinal_results,\n",
    "    gb_results,\n",
    "    svm_results,\n",
    "    lgb_results\n",
    "])\n",
    "\n",
    "# Sort by accuracy\n",
    "results_df = results_df.sort_values('Accuracy', ascending=False)\n",
    "\n",
    "print(results_df.to_string(index=False))\n",
    "\n",
    "# Find best model for each metric\n",
    "print(\"\\n\" + \"=\" * 50)\n",
    "print(\"BEST MODEL FOR EACH METRIC\")\n",
    "print(\"=\" * 50)\n",
    "\n",
    "for metric in ['Accuracy', 'Weighted F1', 'Cohen Kappa', 'MAE']:\n",
    "    if metric == 'MAE':\n",
    "        best_idx = results_df[metric].idxmin()\n",
    "        print(f\"Best {metric}: {results_df.loc[best_idx, 'Model']} ({results_df.loc[best_idx, metric]:.4f})\")\n",
    "    else:\n",
    "        best_idx = results_df[metric].idxmax()\n",
    "        print(f\"Best {metric}: {results_df.loc[best_idx, 'Model']} ({results_df.loc[best_idx, metric]:.4f})\")"
   ],
   "metadata": {
    "collapsed": false,
    "ExecuteTime": {
     "end_time": "2025-06-03T22:44:42.455893Z",
     "start_time": "2025-06-03T22:44:42.446893Z"
    }
   },
   "id": "65c78c706e990b2c",
   "execution_count": 18
  },
  {
   "cell_type": "code",
   "outputs": [
    {
     "name": "stdout",
     "output_type": "stream",
     "text": [
      "\n",
      "==================================================\n",
      "FEATURE IMPORTANCE (Top 10)\n",
      "==================================================\n",
      "                       feature  importance\n",
      "                     loan_amnt    0.152782\n",
      "           loan_percent_income    0.134347\n",
      "                    log_income    0.131450\n",
      "                 person_income    0.129023\n",
      "             person_emp_length    0.099918\n",
      "     cb_person_default_on_file    0.096047\n",
      "                log_person_age    0.075033\n",
      "                    person_age    0.074262\n",
      "    person_home_ownership_RENT    0.016229\n",
      "           loan_intent_MEDICAL    0.014571\n",
      "           loan_intent_VENTURE    0.014279\n",
      "         loan_intent_EDUCATION    0.013440\n",
      "person_home_ownership_MORTGAGE    0.013384\n",
      " loan_intent_DEBTCONSOLIDATION    0.011336\n",
      "          loan_intent_PERSONAL    0.011123\n",
      "   loan_intent_HOMEIMPROVEMENT    0.008391\n",
      "     person_home_ownership_OWN    0.004384\n"
     ]
    }
   ],
   "source": [
    "import pandas as pd\n",
    "import torch\n",
    "\n",
    "\n",
    "print(\"\\n\" + \"=\" * 50)\n",
    "print(\"FEATURE IMPORTANCE (Top 10)\")\n",
    "print(\"=\" * 50)\n",
    "\n",
    "# Get feature importance from Random Forest\n",
    "feature_importance = pd.DataFrame({\n",
    "    'feature': train_cols,\n",
    "    'importance': rf_model.feature_importances_\n",
    "}).sort_values('importance', ascending=False)\n",
    "\n",
    "print(feature_importance.head(50).to_string(index=False))"
   ],
   "metadata": {
    "collapsed": false,
    "ExecuteTime": {
     "end_time": "2025-06-03T22:44:44.389800Z",
     "start_time": "2025-06-03T22:44:44.341043Z"
    }
   },
   "id": "8bf9ba7177577461",
   "execution_count": 19
  },
  {
   "cell_type": "code",
   "outputs": [
    {
     "data": {
      "text/plain": "<Figure size 800x600 with 2 Axes>",
      "image/png": "[encoded data removed]"
     },
     "metadata": {},
     "output_type": "display_data"
    }
   ],
   "source": [
    "import matplotlib.pyplot as plt\n",
    "import seaborn as sns\n",
    "from sklearn.metrics import confusion_matrix\n",
    "\n",
    "# Assuming XGBoost is the best (you can change this based on results)\n",
    "best_pred = gb_pred  # Change this to the best model's predictions\n",
    "\n",
    "cm = confusion_matrix(y_test, best_pred)\n",
    "plt.figure(figsize=(8, 6))\n",
    "sns.heatmap(cm, annot=True, fmt='d', cmap='Blues',\n",
    "            xticklabels=[f\"Grade {i}\" for i in range(7)],\n",
    "            yticklabels=[f\"Grade {i}\" for i in range(7)])\n",
    "plt.xlabel('Predicted')\n",
    "plt.ylabel('True')\n",
    "plt.title('Confusion Matrix - Best Model')\n",
    "plt.tight_layout()\n",
    "plt.show()"
   ],
   "metadata": {
    "collapsed": false,
    "ExecuteTime": {
     "end_time": "2025-06-03T22:44:45.281119Z",
     "start_time": "2025-06-03T22:44:44.987344Z"
    }
   },
   "id": "4cd05eba6ee30824",
   "execution_count": 20
  },
  {
   "cell_type": "code",
   "outputs": [],
   "source": [
    "# Save Models\n",
    "import joblib\n",
    "import os\n",
    "\n",
    "if not os.path.exists(\"models\"):\n",
    "    os.mkdir(\"models\")\n",
    "\n",
    "joblib.dump(rf_model, \"models/rf-model.pkl\")\n",
    "joblib.dump(svm_model, \"models/svm-model.pkl\")\n",
    "joblib.dump(gb_model, \"models/gb-model.pkl\")\n",
    "joblib.dump(lgb_model, \"models/lgb-model.pkl\")\n",
    "joblib.dump(scaler, \"models/scaler.pkl\")\n",
    "xgb_model.save_model(\"models/xgb-model.ubj\")\n",
    "torch.save(ordinal_model.state_dict(), \"models/nn-model.pth\")"
   ],
   "metadata": {
    "collapsed": false,
    "ExecuteTime": {
     "end_time": "2025-06-03T22:44:46.581941Z",
     "start_time": "2025-06-03T22:44:46.280408Z"
    }
   },
   "id": "f6a1c724c697d75b",
   "execution_count": 21
  }
 ],
 "metadata": {
  "kernelspec": {
   "name": "python3",
   "language": "python",
   "display_name": "Python 3 (ipykernel)"
  }
 },
 "nbformat": 4,
 "nbformat_minor": 5
}
