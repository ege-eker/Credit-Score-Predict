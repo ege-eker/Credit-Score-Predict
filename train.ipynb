{
 "cells": [
  {
   "metadata": {
    "ExecuteTime": {
     "end_time": "2025-06-02T01:59:02.522324Z",
     "start_time": "2025-06-02T01:59:02.519884Z"
    }
   },
   "cell_type": "code",
   "source": "import pandas as pd\n",
   "id": "6c35150d576f49e4",
   "outputs": [],
   "execution_count": 39
  },
  {
   "metadata": {
    "ExecuteTime": {
     "end_time": "2025-06-02T01:59:02.716786Z",
     "start_time": "2025-06-02T01:59:02.672280Z"
    }
   },
   "cell_type": "code",
   "source": [
    "from sklearn.preprocessing import OneHotEncoder\n",
    "df = pd.read_csv(\"processed_dataset.csv\")\n",
    "\n",
    "#one hot for loan_grade_encoded\n",
    "one_hot_encoder = OneHotEncoder(\n",
    "    categories=\"auto\",\n",
    "    sparse_output=False\n",
    ")\n",
    "one_hot_array = one_hot_encoder.fit_transform(df[[\"loan_grade\"]])\n",
    "one_hot_df = pd.DataFrame(one_hot_array, columns=one_hot_encoder.get_feature_names_out([\"loan_grade\"]))\n",
    "one_hot_df = one_hot_df.astype(bool)\n",
    "one_hot_df.describe(include=\"all\")"
   ],
   "id": "ec2c466db46d10ea",
   "outputs": [
    {
     "data": {
      "text/plain": [
       "       loan_grade_A loan_grade_B loan_grade_C loan_grade_D loan_grade_E  \\\n",
       "count         31743        31743        31743        31743        31743   \n",
       "unique            2            2            2            2            2   \n",
       "top           False        False        False        False        False   \n",
       "freq          21215        21576        25450        28215        30813   \n",
       "\n",
       "       loan_grade_F loan_grade_G  \n",
       "count         31743        31743  \n",
       "unique            2            2  \n",
       "top           False        False  \n",
       "freq          31509        31680  "
      ],
      "text/html": [
       "<div>\n",
       "<style scoped>\n",
       "    .dataframe tbody tr th:only-of-type {\n",
       "        vertical-align: middle;\n",
       "    }\n",
       "\n",
       "    .dataframe tbody tr th {\n",
       "        vertical-align: top;\n",
       "    }\n",
       "\n",
       "    .dataframe thead th {\n",
       "        text-align: right;\n",
       "    }\n",
       "</style>\n",
       "<table border=\"1\" class=\"dataframe\">\n",
       "  <thead>\n",
       "    <tr style=\"text-align: right;\">\n",
       "      <th></th>\n",
       "      <th>loan_grade_A</th>\n",
       "      <th>loan_grade_B</th>\n",
       "      <th>loan_grade_C</th>\n",
       "      <th>loan_grade_D</th>\n",
       "      <th>loan_grade_E</th>\n",
       "      <th>loan_grade_F</th>\n",
       "      <th>loan_grade_G</th>\n",
       "    </tr>\n",
       "  </thead>\n",
       "  <tbody>\n",
       "    <tr>\n",
       "      <th>count</th>\n",
       "      <td>31743</td>\n",
       "      <td>31743</td>\n",
       "      <td>31743</td>\n",
       "      <td>31743</td>\n",
       "      <td>31743</td>\n",
       "      <td>31743</td>\n",
       "      <td>31743</td>\n",
       "    </tr>\n",
       "    <tr>\n",
       "      <th>unique</th>\n",
       "      <td>2</td>\n",
       "      <td>2</td>\n",
       "      <td>2</td>\n",
       "      <td>2</td>\n",
       "      <td>2</td>\n",
       "      <td>2</td>\n",
       "      <td>2</td>\n",
       "    </tr>\n",
       "    <tr>\n",
       "      <th>top</th>\n",
       "      <td>False</td>\n",
       "      <td>False</td>\n",
       "      <td>False</td>\n",
       "      <td>False</td>\n",
       "      <td>False</td>\n",
       "      <td>False</td>\n",
       "      <td>False</td>\n",
       "    </tr>\n",
       "    <tr>\n",
       "      <th>freq</th>\n",
       "      <td>21215</td>\n",
       "      <td>21576</td>\n",
       "      <td>25450</td>\n",
       "      <td>28215</td>\n",
       "      <td>30813</td>\n",
       "      <td>31509</td>\n",
       "      <td>31680</td>\n",
       "    </tr>\n",
       "  </tbody>\n",
       "</table>\n",
       "</div>"
      ]
     },
     "execution_count": 40,
     "metadata": {},
     "output_type": "execute_result"
    }
   ],
   "execution_count": 40
  },
  {
   "metadata": {
    "ExecuteTime": {
     "end_time": "2025-06-02T02:00:02.682780Z",
     "start_time": "2025-06-02T02:00:02.677280Z"
    }
   },
   "cell_type": "code",
   "source": [
    "# Sadece egitim ve tahminleme islemlerinde gereken column'lar aliniyor.\n",
    "df = pd.concat([\n",
    "    df,\n",
    "    one_hot_df\n",
    "], axis=1)\n",
    "\n",
    "train_cols = [\n",
    "    \"log_income\",\n",
    "    \"log_person_age\",\n",
    "    \"loan_intent_VENTURE\",\n",
    "    \"loan_intent_PERSONAL\",\n",
    "    \"loan_intent_MEDICAL\",\n",
    "    \"loan_intent_HOMEIMPROVEMENT\",\n",
    "    \"loan_intent_EDUCATION\",\n",
    "    \"person_home_ownership_OWN\",\n",
    "    \"person_home_ownership_RENT\",\n",
    "    \"cb_person_default_on_file\",\n",
    "    \"loan_percent_income\"\n",
    "]\n",
    "\n",
    "predict_cols = [\n",
    "    \"loan_grade_A\",\n",
    "    \"loan_grade_B\",\n",
    "    \"loan_grade_C\",\n",
    "    \"loan_grade_D\",\n",
    "    \"loan_grade_E\",\n",
    "    \"loan_grade_F\",\n",
    "    \"loan_grade_G\",\n",
    "]\n",
    "\n",
    "\n",
    "df = df[[*predict_cols, *train_cols]]"
   ],
   "id": "6a707e69c1382967",
   "outputs": [],
   "execution_count": 45
  },
  {
   "metadata": {
    "ExecuteTime": {
     "end_time": "2025-06-02T02:00:03.239562Z",
     "start_time": "2025-06-02T02:00:03.233360Z"
    }
   },
   "cell_type": "code",
   "source": [
    "summary = pd.DataFrame({\n",
    "    'min': df.min(),\n",
    "    'max': df.max(),\n",
    "    'mean': df.mean()\n",
    "})\n",
    "print(summary)"
   ],
   "id": "890da3b1efc56f65",
   "outputs": [
    {
     "name": "stdout",
     "output_type": "stream",
     "text": [
      "                                  min       max          mean\n",
      "loan_grade_A                    False      True  3.316637e-01\n",
      "loan_grade_A                    False      True  3.316637e-01\n",
      "loan_grade_B                    False      True  3.202911e-01\n",
      "loan_grade_B                    False      True  3.202911e-01\n",
      "loan_grade_C                    False      True  1.982484e-01\n",
      "loan_grade_C                    False      True  1.982484e-01\n",
      "loan_grade_D                    False      True  1.111426e-01\n",
      "loan_grade_D                    False      True  1.111426e-01\n",
      "loan_grade_E                    False      True  2.929780e-02\n",
      "loan_grade_E                    False      True  2.929780e-02\n",
      "loan_grade_F                    False      True  7.371704e-03\n",
      "loan_grade_F                    False      True  7.371704e-03\n",
      "loan_grade_G                    False      True  1.984690e-03\n",
      "loan_grade_G                    False      True  1.984690e-03\n",
      "log_income                  -2.772662  2.778184 -2.492708e-15\n",
      "log_person_age              -1.551861  6.640501 -3.552826e-15\n",
      "loan_intent_VENTURE             False      True  1.749047e-01\n",
      "loan_intent_PERSONAL            False      True  1.693602e-01\n",
      "loan_intent_MEDICAL             False      True  1.864663e-01\n",
      "loan_intent_HOMEIMPROVEMENT     False      True  1.106071e-01\n",
      "loan_intent_EDUCATION           False      True  1.984690e-01\n",
      "person_home_ownership_OWN       False      True  7.812746e-02\n",
      "person_home_ownership_RENT      False      True  5.078915e-01\n",
      "cb_person_default_on_file       False      True  1.756923e-01\n",
      "loan_percent_income         -1.515502  6.231904 -2.865182e-16\n"
     ]
    }
   ],
   "execution_count": 46
  },
  {
   "metadata": {
    "ExecuteTime": {
     "end_time": "2025-06-02T02:00:10.531609Z",
     "start_time": "2025-06-02T02:00:10.524613Z"
    }
   },
   "cell_type": "code",
   "source": [
    "from sklearn.preprocessing import StandardScaler\n",
    "scaler = StandardScaler()\n",
    "\n",
    "# Burada standardize etmek istedigimiz column'lari seciyoruz. (surekli degerler)\n",
    "cont_cols = [\n",
    "    \"log_income\",\n",
    "    \"log_person_age\",\n",
    "    \"loan_percent_income\"\n",
    "]\n",
    "\n",
    "target_df = df[cont_cols]\n",
    "df = df.drop(columns=cont_cols)\n",
    "scaler.fit(target_df)\n",
    "target_df = pd.DataFrame(\n",
    "    scaler.transform(target_df),\n",
    "    columns=target_df.columns\n",
    ")\n",
    "df = pd.concat([\n",
    "    target_df,\n",
    "    df\n",
    "], axis=1)"
   ],
   "id": "c9a5338c39deb8c6",
   "outputs": [],
   "execution_count": 48
  },
  {
   "metadata": {
    "ExecuteTime": {
     "end_time": "2025-06-02T02:00:12.660241Z",
     "start_time": "2025-06-02T02:00:12.653916Z"
    }
   },
   "cell_type": "code",
   "source": [
    "summary = pd.DataFrame({\n",
    "    'min': df.min(),\n",
    "    'max': df.max(),\n",
    "    'mean': df.mean()\n",
    "})\n",
    "print(summary)"
   ],
   "id": "da1c03be19ea4438",
   "outputs": [
    {
     "name": "stdout",
     "output_type": "stream",
     "text": [
      "                                  min       max          mean\n",
      "log_income                  -2.772662  2.778184 -5.730364e-17\n",
      "log_person_age              -1.551861  6.640501  0.000000e+00\n",
      "loan_percent_income         -1.515502  6.231904  1.790739e-17\n",
      "loan_grade_A                    False      True  3.316637e-01\n",
      "loan_grade_A                    False      True  3.316637e-01\n",
      "loan_grade_B                    False      True  3.202911e-01\n",
      "loan_grade_B                    False      True  3.202911e-01\n",
      "loan_grade_C                    False      True  1.982484e-01\n",
      "loan_grade_C                    False      True  1.982484e-01\n",
      "loan_grade_D                    False      True  1.111426e-01\n",
      "loan_grade_D                    False      True  1.111426e-01\n",
      "loan_grade_E                    False      True  2.929780e-02\n",
      "loan_grade_E                    False      True  2.929780e-02\n",
      "loan_grade_F                    False      True  7.371704e-03\n",
      "loan_grade_F                    False      True  7.371704e-03\n",
      "loan_grade_G                    False      True  1.984690e-03\n",
      "loan_grade_G                    False      True  1.984690e-03\n",
      "loan_intent_VENTURE             False      True  1.749047e-01\n",
      "loan_intent_PERSONAL            False      True  1.693602e-01\n",
      "loan_intent_MEDICAL             False      True  1.864663e-01\n",
      "loan_intent_HOMEIMPROVEMENT     False      True  1.106071e-01\n",
      "loan_intent_EDUCATION           False      True  1.984690e-01\n",
      "person_home_ownership_OWN       False      True  7.812746e-02\n",
      "person_home_ownership_RENT      False      True  5.078915e-01\n",
      "cb_person_default_on_file       False      True  1.756923e-01\n"
     ]
    }
   ],
   "execution_count": 49
  },
  {
   "metadata": {
    "ExecuteTime": {
     "end_time": "2025-06-02T02:00:15.745916Z",
     "start_time": "2025-06-02T02:00:15.705680Z"
    }
   },
   "cell_type": "code",
   "source": [
    "from sklearn.model_selection import train_test_split\n",
    "# Test ve egitim verisini %90'a %10 oranla ayiriyoruz\n",
    "train_data, test_data = train_test_split(df, test_size=0.1, train_size=0.9)"
   ],
   "id": "55e98c43b32bd05b",
   "outputs": [],
   "execution_count": 50
  },
  {
   "metadata": {
    "ExecuteTime": {
     "end_time": "2025-06-02T02:00:16.408265Z",
     "start_time": "2025-06-02T02:00:16.404513Z"
    }
   },
   "cell_type": "code",
   "source": [
    "# Dogru bir sekilde ayirilmis mi diye bakiyoruz\n",
    "len(train_data) / (len(train_data) + len(test_data))"
   ],
   "id": "bf64d0691a5958ad",
   "outputs": [
    {
     "data": {
      "text/plain": [
       "0.8999779478940239"
      ]
     },
     "execution_count": 51,
     "metadata": {},
     "output_type": "execute_result"
    }
   ],
   "execution_count": 51
  },
  {
   "metadata": {
    "ExecuteTime": {
     "end_time": "2025-06-02T02:00:17.550357Z",
     "start_time": "2025-06-02T02:00:17.545296Z"
    }
   },
   "cell_type": "code",
   "source": [
    "# Emin oldugumuza gore, egitim ve test datalarini uygun sekilde input ve output olarak boluyoruz\n",
    "train_X = train_data[train_cols]\n",
    "train_y = train_data[predict_cols]\n",
    "\n",
    "test_X = test_data[train_cols]\n",
    "test_y = test_data[predict_cols]"
   ],
   "id": "4ecb1d5c130e6d35",
   "outputs": [],
   "execution_count": 52
  },
  {
   "metadata": {},
   "cell_type": "code",
   "outputs": [],
   "execution_count": null,
   "source": "",
   "id": "359cb3569b3a5120"
  }
 ],
 "metadata": {},
 "nbformat": 4,
 "nbformat_minor": 5
}
