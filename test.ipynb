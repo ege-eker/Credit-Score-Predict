{
 "cells": [
  {
   "cell_type": "code",
   "id": "initial_id",
   "metadata": {
    "collapsed": true
   },
   "source": [
    "from models import CreditDetailsParams, MasterPredictor\n",
    "import pandas as pd\n",
    "original_dataset = pd.read_csv(\"dataset.csv\")\n",
    "sample = original_dataset.sample(10000)\n"
   ],
   "outputs": [],
   "execution_count": null
  },
  {
   "metadata": {},
   "cell_type": "code",
   "source": "predictor = MasterPredictor()",
   "id": "4b97ccd4bbbdc4e4",
   "outputs": [],
   "execution_count": null
  },
  {
   "metadata": {},
   "cell_type": "code",
   "source": [
    "sample = sample.replace(\"?\", 0)\n",
    "sample = sample[sample[\"person_home_ownership\"] != \"OTHER\"]"
   ],
   "id": "6a84e2d76833c29f",
   "outputs": [],
   "execution_count": null
  },
  {
   "metadata": {},
   "cell_type": "code",
   "source": [
    "correct = 0\n",
    "for _, n in sample.iterrows():\n",
    "    print(n[\"person_emp_length\"])\n",
    "    params = CreditDetailsParams(\n",
    "        income=n[\"person_income\"],\n",
    "        age=n[\"person_age\"],\n",
    "        employment_length=0 if n[\"person_emp_length\"] == \"?\" else n[\"person_emp_length\"],  # Cast float to int\n",
    "        loan_amount=n[\"loan_amnt\"],\n",
    "        loan_intent=n[\"loan_intent\"],\n",
    "        home_ownership=n[\"person_home_ownership\"],\n",
    "        default_on_file=True if \"Y\" == n[\"cb_person_default_on_file\"] else False\n",
    "    )\n",
    "\n",
    "    result = predictor.predict_lgb(params)\n",
    "    print(f\"\"\"\n",
    "    Expected: {n[\"loan_grade\"]}\n",
    "    Result: {result}\n",
    "\"\"\")\n",
    "    if n[\"loan_grade\"] == result:\n",
    "        correct += 1\n",
    "print(f\"Got {correct} out of {len(sample)}\")"
   ],
   "id": "f0391f5caec6d1d5",
   "outputs": [],
   "execution_count": null
  },
  {
   "metadata": {},
   "cell_type": "code",
   "source": "",
   "id": "833de41ebe9208eb",
   "outputs": [],
   "execution_count": null
  }
 ],
 "metadata": {
  "kernelspec": {
   "display_name": "Python 3",
   "language": "python",
   "name": "python3"
  },
  "language_info": {
   "codemirror_mode": {
    "name": "ipython",
    "version": 2
   },
   "file_extension": ".py",
   "mimetype": "text/x-python",
   "name": "python",
   "nbconvert_exporter": "python",
   "pygments_lexer": "ipython2",
   "version": "2.7.6"
  }
 },
 "nbformat": 4,
 "nbformat_minor": 5
}
